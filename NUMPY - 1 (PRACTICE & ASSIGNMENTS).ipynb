{
 "cells": [
  {
   "cell_type": "markdown",
   "id": "c33256d3",
   "metadata": {},
   "source": [
    "# Practice"
   ]
  },
  {
   "cell_type": "code",
   "execution_count": 45,
   "id": "3dae4ed6",
   "metadata": {},
   "outputs": [
    {
     "name": "stdout",
     "output_type": "stream",
     "text": [
      "[1, 4, 9, 16, 25]\n"
     ]
    }
   ],
   "source": [
    "# Why do we use Numpy? Normal Python vs Numpy\n",
    "# Normal python example\n",
    "\n",
    "a=[1,2,3,4,5]\n",
    "l= []\n",
    "for i in a:\n",
    "    l.append(i**2)\n",
    "print(l)\n",
    "\n",
    "# So many Lines of codes"
   ]
  },
  {
   "cell_type": "code",
   "execution_count": 12,
   "id": "035648e0",
   "metadata": {},
   "outputs": [
    {
     "data": {
      "text/plain": [
       "array([ 1,  4,  9, 16, 25])"
      ]
     },
     "execution_count": 12,
     "metadata": {},
     "output_type": "execute_result"
    }
   ],
   "source": [
    "# Here is an example of numpy arrays\n",
    "\n",
    "import numpy as np\n",
    "r = np.array([1,2,3,4,5])\n",
    "r**2\n",
    "\n",
    "# Just import numpy, create a numpy array & boom we don't have to write so many lines of codes.\n",
    "# Numpy arrays are better than python lists in terms of speed. Numpy arrays are much more efficient & Optimised.\n",
    "# Numpy arrays are inherently using C lang. arrays. Because Numpy library is written in C language."
   ]
  },
  {
   "cell_type": "code",
   "execution_count": 14,
   "id": "df46eafe",
   "metadata": {},
   "outputs": [
    {
     "name": "stdout",
     "output_type": "stream",
     "text": [
      "1.18 µs ± 61.5 ns per loop (mean ± std. dev. of 7 runs, 1,000,000 loops each)\n"
     ]
    }
   ],
   "source": [
    "# Proof numpy is faster than Python\n",
    "# Here is an example of python. we will time it both python and numpy one by one.\n",
    "\n",
    "l = range(10)\n",
    "%timeit [i**2 for i in l]\n",
    "\n",
    "# output in micro seconds\n"
   ]
  },
  {
   "cell_type": "code",
   "execution_count": 16,
   "id": "24422178",
   "metadata": {},
   "outputs": [
    {
     "name": "stdout",
     "output_type": "stream",
     "text": [
      "873 ns ± 33.9 ns per loop (mean ± std. dev. of 7 runs, 1,000,000 loops each)\n"
     ]
    }
   ],
   "source": [
    "# now numpy\n",
    "\n",
    "R = np.array(range(10))\n",
    "%timeit R**2\n",
    "\n",
    "# output in nano seconds\n"
   ]
  },
  {
   "cell_type": "code",
   "execution_count": 17,
   "id": "f012aac6",
   "metadata": {},
   "outputs": [
    {
     "data": {
      "text/plain": [
       "[1, 2, 3, 1.1, 2.2, 3.3, 'r', 'k', 'R', True, False]"
      ]
     },
     "execution_count": 17,
     "metadata": {},
     "output_type": "execute_result"
    }
   ],
   "source": [
    "# Python lists are heterogeneous, we can store multiple datatypes.\n",
    "\n",
    "k = [1,2,3,1.1,2.2,3.3,'r','k','R',True,False]\n",
    "k"
   ]
  },
  {
   "cell_type": "code",
   "execution_count": 19,
   "id": "ee475549",
   "metadata": {},
   "outputs": [
    {
     "data": {
      "text/plain": [
       "array([1. , 2. , 3. , 4. , 5. , 6.5])"
      ]
     },
     "execution_count": 19,
     "metadata": {},
     "output_type": "execute_result"
    }
   ],
   "source": [
    "# Numpy arrays are homogeneous. Let's see some examples to understand how numpy array behaves.\n",
    " \n",
    "a = np.array([1,2,3,4,5,6.5])\n",
    "a\n",
    "\n",
    "# It reads int,int,int,int,int and then Float. Now  I cannot adjust Float in the memory of integers.\n",
    "# So it automatically converted all the elements into floats(Higher Values)"
   ]
  },
  {
   "cell_type": "code",
   "execution_count": 20,
   "id": "2368408f",
   "metadata": {},
   "outputs": [
    {
     "data": {
      "text/plain": [
       "array(['1', '2', '3', '4', '5', 'numpy', 'python'], dtype='<U11')"
      ]
     },
     "execution_count": 20,
     "metadata": {},
     "output_type": "execute_result"
    }
   ],
   "source": [
    "# Let's see some more examples with other datatypes.\n",
    "\n",
    "b = np.array([1,2,3,4,5,'numpy','python'])\n",
    "b"
   ]
  },
  {
   "cell_type": "code",
   "execution_count": 23,
   "id": "fc7d6040",
   "metadata": {},
   "outputs": [
    {
     "data": {
      "text/plain": [
       "array([1, 2, 3, 4, 1, 0])"
      ]
     },
     "execution_count": 23,
     "metadata": {},
     "output_type": "execute_result"
    }
   ],
   "source": [
    "c = np.array([1,2,3,4,True,False])\n",
    "c\n",
    "\n",
    "# 1 for True , 0 for False"
   ]
  },
  {
   "cell_type": "code",
   "execution_count": 25,
   "id": "0b228d6d",
   "metadata": {},
   "outputs": [
    {
     "data": {
      "text/plain": [
       "1"
      ]
     },
     "execution_count": 25,
     "metadata": {},
     "output_type": "execute_result"
    }
   ],
   "source": [
    "# Dimensions in numpy \n",
    "# some attributes in numpy ndim,shape,arange\n",
    "\n",
    "a = np.array([1,2,3,4,5])\n",
    "a.ndim\n",
    "\n",
    "# tells us the dimension of numpy array"
   ]
  },
  {
   "cell_type": "code",
   "execution_count": 28,
   "id": "e7ee83d3",
   "metadata": {},
   "outputs": [
    {
     "data": {
      "text/plain": [
       "2"
      ]
     },
     "execution_count": 28,
     "metadata": {},
     "output_type": "execute_result"
    }
   ],
   "source": [
    "b = np.array([[1,2,3],[4,5,6],[7,8,9]])\n",
    "b\n",
    "b.ndim"
   ]
  },
  {
   "cell_type": "code",
   "execution_count": 30,
   "id": "3f92cdfa",
   "metadata": {},
   "outputs": [
    {
     "data": {
      "text/plain": [
       "(4,)"
      ]
     },
     "execution_count": 30,
     "metadata": {},
     "output_type": "execute_result"
    }
   ],
   "source": [
    "# shape attribute tells us, How many values I have in each dimension\n",
    "\n",
    "a = np.array([1,2,3,4])\n",
    "a\n",
    "a.shape"
   ]
  },
  {
   "cell_type": "code",
   "execution_count": 33,
   "id": "9d6abdb9",
   "metadata": {},
   "outputs": [
    {
     "data": {
      "text/plain": [
       "(4, 3)"
      ]
     },
     "execution_count": 33,
     "metadata": {},
     "output_type": "execute_result"
    }
   ],
   "source": [
    "b = np.array([[1,2,3],[4,5,6],[7,8,9],[10,11,12]])\n",
    "b\n",
    "b.shape"
   ]
  },
  {
   "cell_type": "code",
   "execution_count": 34,
   "id": "b46ad598",
   "metadata": {},
   "outputs": [
    {
     "data": {
      "text/plain": [
       "numpy.ndarray"
      ]
     },
     "execution_count": 34,
     "metadata": {},
     "output_type": "execute_result"
    }
   ],
   "source": [
    "# types in numpy arrays\n",
    "\n",
    "type(a)\n",
    "\n",
    "# tells us that the identifier a. It's entirety in numpy n dimensional array(where n can be any no.)."
   ]
  },
  {
   "cell_type": "code",
   "execution_count": 35,
   "id": "b0cbe61a",
   "metadata": {},
   "outputs": [
    {
     "data": {
      "text/plain": [
       "dtype('int32')"
      ]
     },
     "execution_count": 35,
     "metadata": {},
     "output_type": "execute_result"
    }
   ],
   "source": [
    "# dtype in numpy arrays\n",
    "\n",
    "a.dtype\n",
    "\n",
    "# tells us the datatype of value stored in the numpy array"
   ]
  },
  {
   "cell_type": "code",
   "execution_count": 36,
   "id": "6572b5cc",
   "metadata": {},
   "outputs": [
    {
     "data": {
      "text/plain": [
       "array([0, 1, 2, 3, 4, 5, 6, 7, 8, 9])"
      ]
     },
     "execution_count": 36,
     "metadata": {},
     "output_type": "execute_result"
    }
   ],
   "source": [
    "# arange function in numpy\n",
    "\n",
    "l = np.arange(10)\n",
    "l"
   ]
  },
  {
   "cell_type": "code",
   "execution_count": 38,
   "id": "4e29695c",
   "metadata": {},
   "outputs": [
    {
     "data": {
      "text/plain": [
       "array([1. , 1.5, 2. , 2.5, 3. , 3.5, 4. , 4.5])"
      ]
     },
     "execution_count": 38,
     "metadata": {},
     "output_type": "execute_result"
    }
   ],
   "source": [
    "# How arange differs from range function.\n",
    "# arange allows us to assign stepsize in float as well. And that's not the case in range function\n",
    "\n",
    "l = np.arange(1,5,.5)\n",
    "l"
   ]
  },
  {
   "cell_type": "code",
   "execution_count": 39,
   "id": "f4cfdd76",
   "metadata": {},
   "outputs": [
    {
     "data": {
      "text/plain": [
       "array([8, 9])"
      ]
     },
     "execution_count": 39,
     "metadata": {},
     "output_type": "execute_result"
    }
   ],
   "source": [
    "# Special method in numpy that allows us to access multiple indices at the same time.\n",
    "\n",
    "a = np.array([1,2,3,7,8,9,4,5,6])\n",
    "a[[4,5]]"
   ]
  },
  {
   "cell_type": "code",
   "execution_count": 40,
   "id": "9cb4c848",
   "metadata": {},
   "outputs": [
    {
     "data": {
      "text/plain": [
       "array([1, 2, 3, 4])"
      ]
     },
     "execution_count": 40,
     "metadata": {},
     "output_type": "execute_result"
    }
   ],
   "source": [
    "# Slicing in numpy arrays\n",
    "a = np.array([1,2,3,4,5,6])\n",
    "a[:4]"
   ]
  },
  {
   "cell_type": "code",
   "execution_count": 42,
   "id": "3b022440",
   "metadata": {},
   "outputs": [
    {
     "data": {
      "text/plain": [
       "array([6, 5, 4, 3, 2])"
      ]
     },
     "execution_count": 42,
     "metadata": {},
     "output_type": "execute_result"
    }
   ],
   "source": [
    "b = np.array([2,3,4,5,6])\n",
    "b[::-1]"
   ]
  },
  {
   "cell_type": "code",
   "execution_count": 43,
   "id": "777d1e17",
   "metadata": {},
   "outputs": [
    {
     "data": {
      "text/plain": [
       "array([6, 5])"
      ]
     },
     "execution_count": 43,
     "metadata": {},
     "output_type": "execute_result"
    }
   ],
   "source": [
    "b[:-3:-1]"
   ]
  },
  {
   "cell_type": "code",
   "execution_count": 44,
   "id": "bebf9f38",
   "metadata": {},
   "outputs": [
    {
     "data": {
      "text/plain": [
       "array([], dtype=int32)"
      ]
     },
     "execution_count": 44,
     "metadata": {},
     "output_type": "execute_result"
    }
   ],
   "source": [
    "c = np.array([1,2,3,4,5,6,7,8,9,10,11,12])\n",
    "c[-5:-2:-1]\n",
    "# empty array"
   ]
  },
  {
   "cell_type": "markdown",
   "id": "c78e5672",
   "metadata": {},
   "source": [
    "# Assignments"
   ]
  },
  {
   "cell_type": "code",
   "execution_count": 47,
   "id": "01168f3a",
   "metadata": {},
   "outputs": [
    {
     "data": {
      "text/plain": [
       "array([ 3,  1,  2, 10,  2,  2,  2,  1,  4,  6])"
      ]
     },
     "execution_count": 47,
     "metadata": {},
     "output_type": "execute_result"
    }
   ],
   "source": [
    "# Add 1 to each elements\n",
    "\n",
    "A = np.array([2, 0, 1, 9, 1, 1, 1, 0, 3, 5])\n",
    "A+1"
   ]
  },
  {
   "cell_type": "code",
   "execution_count": 49,
   "id": "ddc8d91a",
   "metadata": {},
   "outputs": [
    {
     "data": {
      "text/plain": [
       "array([ 5,  8, 11, 14, 17, 20, 23, 26, 29, 32])"
      ]
     },
     "execution_count": 49,
     "metadata": {},
     "output_type": "execute_result"
    }
   ],
   "source": [
    "#Create a sequence of a given length from a given start point, where the difference between 2 consecutive elements of the expected sequence is also given as step.\n",
    "#Input Format:\n",
    "#One line of input will have 3 space-separated integers consisting of start, length of sequence and step between two continuous elements of the sequence.\n",
    "#Output Format:\n",
    "#numpy array of integers\n",
    "\n",
    "b = np.arange(5,35,3)\n",
    "b"
   ]
  },
  {
   "cell_type": "code",
   "execution_count": 51,
   "id": "d6715da8",
   "metadata": {},
   "outputs": [
    {
     "data": {
      "text/plain": [
       "array([22, 24, 26, 28, 30, 32, 34, 36, 38, 40, 42, 44, 46, 48, 50, 52, 54,\n",
       "       56, 58, 60, 62, 64, 66, 68, 70])"
      ]
     },
     "execution_count": 51,
     "metadata": {},
     "output_type": "execute_result"
    }
   ],
   "source": [
    "#Write the code using np.arange() to get all even numbers between 21 and 70, (70 inclusive)\n",
    "\n",
    "c = np.arange(22,71,2)\n",
    "c"
   ]
  },
  {
   "cell_type": "code",
   "execution_count": 52,
   "id": "ab350d4f",
   "metadata": {},
   "outputs": [
    {
     "data": {
      "text/plain": [
       "array([21, 23, 25, 27, 29, 31, 33, 35, 37, 39, 41, 43, 45, 47, 49, 51, 53,\n",
       "       55, 57, 59, 61, 63, 65, 67, 69, 71])"
      ]
     },
     "execution_count": 52,
     "metadata": {},
     "output_type": "execute_result"
    }
   ],
   "source": [
    "# Write the code using np.arange() to get all odd numbers between 20 and 71. (71 inclusive)\n",
    "\n",
    "d = np.arange(21,72,2)\n",
    "d"
   ]
  },
  {
   "cell_type": "code",
   "execution_count": 67,
   "id": "2d41bbfc",
   "metadata": {},
   "outputs": [
    {
     "data": {
      "text/plain": [
       "(0, 5)"
      ]
     },
     "execution_count": 67,
     "metadata": {},
     "output_type": "execute_result"
    }
   ],
   "source": [
    "# Given a 1D array, return the first and last elements from the array.\n",
    "\n",
    "e = np.array([0,1,2,3,4,5])\n",
    "\n",
    "def first_last_element(e):\n",
    "    first_element = e[0]\n",
    "    last_element = e[-1]\n",
    "    return (first_element,last_element)\n",
    "\n",
    "first_last_element(e)\n"
   ]
  },
  {
   "cell_type": "code",
   "execution_count": 59,
   "id": "8aaa5882",
   "metadata": {},
   "outputs": [
    {
     "data": {
      "text/plain": [
       "((5,), 1)"
      ]
     },
     "execution_count": 59,
     "metadata": {},
     "output_type": "execute_result"
    }
   ],
   "source": [
    "#Given an array, return the shape and dimension of the array.\n",
    "\n",
    "f = np.array([1,2,3,4,5])\n",
    "f.shape,f.ndim"
   ]
  },
  {
   "cell_type": "code",
   "execution_count": 60,
   "id": "f8132404",
   "metadata": {},
   "outputs": [
    {
     "data": {
      "text/plain": [
       "array([5. , 5.5, 6. , 6.5])"
      ]
     },
     "execution_count": 60,
     "metadata": {},
     "output_type": "execute_result"
    }
   ],
   "source": [
    "# Given the start, end, and the stepsize return a numpy array sequence in given range with the specified stepsize.\n",
    "\n",
    "g = np.arange(5,7,0.5)\n",
    "g"
   ]
  },
  {
   "cell_type": "code",
   "execution_count": 70,
   "id": "a8b5452c",
   "metadata": {},
   "outputs": [
    {
     "data": {
      "text/plain": [
       "array([85, 57, 65, 44])"
      ]
     },
     "execution_count": 70,
     "metadata": {},
     "output_type": "execute_result"
    }
   ],
   "source": [
    "#Given an array of marks, return the array only containing elements with marks > 40\n",
    "\n",
    "h = np.array([85, 18, 2, 57, 65, 44])\n",
    "def filtering_marks(h):\n",
    "    return h[h>40]\n",
    "\n",
    "filtering_marks(h)"
   ]
  },
  {
   "cell_type": "code",
   "execution_count": 71,
   "id": "937dd2dd",
   "metadata": {},
   "outputs": [
    {
     "name": "stdout",
     "output_type": "stream",
     "text": [
      "[  5  -9  20  25   3  -5  16 -10  -8]\n"
     ]
    }
   ],
   "source": [
    "x = np.array([-5, 9 , 20 , 25, -3, 5, 16, 10,-8])\n",
    "x[(x >= -5) & (x <= 15)] *= -1\n",
    "print(x)\n",
    "\n",
    "# Let's go through the process \n",
    "# first (x >= -5) we will get this ([True,True,True,True,True,True,True,True,False]),\n",
    "# second (x<=15) we will get this ([True,True,False,False,True,True,False,True,True])\n",
    "# Combine first & second = ([True,True,False,False,True,True,False,True,False])\n",
    "# After this we are multiplying it with -1"
   ]
  },
  {
   "cell_type": "code",
   "execution_count": null,
   "id": "10cfac4d",
   "metadata": {},
   "outputs": [],
   "source": []
  }
 ],
 "metadata": {
  "kernelspec": {
   "display_name": "Python 3 (ipykernel)",
   "language": "python",
   "name": "python3"
  },
  "language_info": {
   "codemirror_mode": {
    "name": "ipython",
    "version": 3
   },
   "file_extension": ".py",
   "mimetype": "text/x-python",
   "name": "python",
   "nbconvert_exporter": "python",
   "pygments_lexer": "ipython3",
   "version": "3.11.2"
  }
 },
 "nbformat": 4,
 "nbformat_minor": 5
}

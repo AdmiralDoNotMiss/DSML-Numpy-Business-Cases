{
 "cells": [
  {
   "cell_type": "code",
   "execution_count": 1,
   "id": "378d73fc",
   "metadata": {},
   "outputs": [],
   "source": [
    "# USE CASE : FITNESS DATA ANALYSIS OF A PERSON \n",
    "# LOADING DATA SET AND EDA USING NUMPY"
   ]
  },
  {
   "cell_type": "code",
   "execution_count": 2,
   "id": "2456cb62",
   "metadata": {},
   "outputs": [],
   "source": [
    "import numpy as np"
   ]
  },
  {
   "cell_type": "code",
   "execution_count": 44,
   "id": "64c48a73",
   "metadata": {},
   "outputs": [
    {
     "name": "stderr",
     "output_type": "stream",
     "text": [
      "Downloading...\n",
      "From: https://drive.google.com/uc?id=1vk1Pu0djiYcrdc85yUXZ_Rqq2oZNcohd\n",
      "To: C:\\Users\\htc\\fit.txt\n",
      "\n",
      "  0%|          | 0.00/3.43k [00:00<?, ?B/s]\n",
      "100%|##########| 3.43k/3.43k [00:00<?, ?B/s]\n"
     ]
    }
   ],
   "source": [
    "!gdown 1vk1Pu0djiYcrdc85yUXZ_Rqq2oZNcohd"
   ]
  },
  {
   "cell_type": "code",
   "execution_count": 46,
   "id": "934c6605",
   "metadata": {},
   "outputs": [],
   "source": [
    "data = np.loadtxt(\"C:/Users/htc/fit.txt\",dtype='str')"
   ]
  },
  {
   "cell_type": "code",
   "execution_count": 48,
   "id": "bab20b7c",
   "metadata": {},
   "outputs": [
    {
     "data": {
      "text/plain": [
       "array([['06-10-2017', '5464', 'Neutral', '181', '5', 'Inactive'],\n",
       "       ['07-10-2017', '6041', 'Sad', '197', '8', 'Inactive'],\n",
       "       ['08-10-2017', '25', 'Sad', '0', '5', 'Inactive'],\n",
       "       ['09-10-2017', '5461', 'Sad', '174', '4', 'Inactive'],\n",
       "       ['10-10-2017', '6915', 'Neutral', '223', '5', 'Active']],\n",
       "      dtype='<U10')"
      ]
     },
     "execution_count": 48,
     "metadata": {},
     "output_type": "execute_result"
    }
   ],
   "source": [
    "# Since the data has many rows. we are just fetching top 5 rows for now. To check the granularity of the data\n",
    "# Data is homogeneous.\n",
    "# we might do type casting later\n",
    "data[:5]"
   ]
  },
  {
   "cell_type": "code",
   "execution_count": 49,
   "id": "d1489b37",
   "metadata": {},
   "outputs": [
    {
     "data": {
      "text/plain": [
       "(96, 6)"
      ]
     },
     "execution_count": 49,
     "metadata": {},
     "output_type": "execute_result"
    }
   ],
   "source": [
    "# A total of 96 Datapoints and 6 Features we have in our fitness data\n",
    "data.shape"
   ]
  },
  {
   "cell_type": "code",
   "execution_count": 50,
   "id": "365aeb43",
   "metadata": {},
   "outputs": [],
   "source": [
    "# WE ARE TRYING TO FETCH DETAILS OF EACH COLUMN IN A SEPERATE IDENTIFIER. SO IT WILL BE EASY FOR US TO WORK WITH THE DATA.\n",
    "# WE WILL DO IT SIMPLY BY PERFORMING A TRANSPOSE FUNCTION."
   ]
  },
  {
   "cell_type": "code",
   "execution_count": 51,
   "id": "53364ccd",
   "metadata": {},
   "outputs": [],
   "source": [
    "date,steps_count,mood,calories_burned,hours_of_sleep,activity_status = data.T"
   ]
  },
  {
   "cell_type": "code",
   "execution_count": 59,
   "id": "13e22296",
   "metadata": {},
   "outputs": [],
   "source": [
    "# some of our columns are in string format but they need to be in int format.\n",
    "# columns like steps_count,calories_burned,hours_of_sleep\n",
    "\n",
    "steps_count = np.array(steps_count,dtype='int')\n",
    "\n",
    "calories_burned = np.array(calories_burned, dtype='int')\n",
    "\n",
    "hours_of_sleep = np.array(hours_of_sleep,dtype='int')"
   ]
  },
  {
   "cell_type": "code",
   "execution_count": 61,
   "id": "86ecddba",
   "metadata": {},
   "outputs": [
    {
     "data": {
      "text/plain": [
       "(array(['Happy', 'Neutral', 'Sad'], dtype='<U10'),\n",
       " array([40, 27, 29], dtype=int64))"
      ]
     },
     "execution_count": 61,
     "metadata": {},
     "output_type": "execute_result"
    }
   ],
   "source": [
    "# we are checking up on his mood. How does he feel most of the times?\n",
    "# He has 3 moods, either he is happy,neutral or sad.\n",
    "\n",
    "np.unique(mood,return_counts=True)"
   ]
  },
  {
   "cell_type": "code",
   "execution_count": 63,
   "id": "321af1ec",
   "metadata": {},
   "outputs": [],
   "source": [
    "# Now we are checking on Average how much steps he walk.\n",
    "\n",
    "avg_steps_count = np.mean(steps_count)"
   ]
  },
  {
   "cell_type": "code",
   "execution_count": 64,
   "id": "c75ff44b",
   "metadata": {},
   "outputs": [
    {
     "data": {
      "text/plain": [
       "2935.9375"
      ]
     },
     "execution_count": 64,
     "metadata": {},
     "output_type": "execute_result"
    }
   ],
   "source": [
    "avg_steps_count "
   ]
  },
  {
   "cell_type": "code",
   "execution_count": 69,
   "id": "b885eaa8",
   "metadata": {},
   "outputs": [
    {
     "name": "stdout",
     "output_type": "stream",
     "text": [
      "7422\n",
      "14-12-2017\n"
     ]
    }
   ],
   "source": [
    "# On which day he took the maximum steps.\n",
    "print(np.max(steps_count))\n",
    "print(date[np.argmax(steps_count)])"
   ]
  },
  {
   "cell_type": "code",
   "execution_count": 70,
   "id": "7fbebc96",
   "metadata": {},
   "outputs": [
    {
     "name": "stdout",
     "output_type": "stream",
     "text": [
      "25\n",
      "14-12-2017\n"
     ]
    }
   ],
   "source": [
    "# On which day he took the minimum steps.\n",
    "\n",
    "print(np.min(steps_count))\n",
    "print(date[np.argmax(steps_count)])"
   ]
  },
  {
   "cell_type": "code",
   "execution_count": 73,
   "id": "c377bb24",
   "metadata": {},
   "outputs": [
    {
     "name": "stdout",
     "output_type": "stream",
     "text": [
      "243\n",
      "14-12-2017\n"
     ]
    }
   ],
   "source": [
    "# Day on which he burned the maximum no. of calories.\n",
    "\n",
    "print(np.max(calories_burned))\n",
    "print(date[np.argmax(calories_burned)])"
   ]
  },
  {
   "cell_type": "code",
   "execution_count": null,
   "id": "daa991be",
   "metadata": {},
   "outputs": [],
   "source": [
    "# Let's try to correlate his mood with the counts of steps he is taking.\n",
    "# Let's find the Avg. stepscount on those days where his mood was Sad"
   ]
  },
  {
   "cell_type": "code",
   "execution_count": 81,
   "id": "cfcac2ad",
   "metadata": {},
   "outputs": [],
   "source": [
    "avg_steps_mood_sad = np.mean(steps_count[mood=='Sad'])"
   ]
  },
  {
   "cell_type": "code",
   "execution_count": 82,
   "id": "ee47584b",
   "metadata": {},
   "outputs": [
    {
     "name": "stdout",
     "output_type": "stream",
     "text": [
      "2935.9375\n",
      "2103.0689655172414\n"
     ]
    }
   ],
   "source": [
    "# His Average stepscount is greater than his average stepscount when he is sad.\n",
    "# Can we draw this insight from here that when his mood was sad. he is more likely to walk less.\n",
    "\n",
    "print(avg_steps_count)\n",
    "print(avg_steps_mood_sad)"
   ]
  },
  {
   "cell_type": "code",
   "execution_count": 87,
   "id": "4e9ace50",
   "metadata": {},
   "outputs": [],
   "source": [
    "# Let's correlate this same situation with when his mood was happy.\n",
    "\n",
    "avg_steps_mood_happy = np.mean(steps_count[mood=='Happy'])"
   ]
  },
  {
   "cell_type": "code",
   "execution_count": 88,
   "id": "71245ac2",
   "metadata": {},
   "outputs": [
    {
     "name": "stdout",
     "output_type": "stream",
     "text": [
      "2935.9375\n",
      "3392.725\n"
     ]
    }
   ],
   "source": [
    "# His Average stepscount is smaller than his average stepscount when he is happy.\n",
    "# Can we draw this insight from here that when his mood was happy. he is more likely to walk more.\n",
    "\n",
    "print(avg_steps_count)\n",
    "print(avg_steps_mood_happy)"
   ]
  },
  {
   "cell_type": "code",
   "execution_count": 90,
   "id": "fdbb1f5c",
   "metadata": {},
   "outputs": [
    {
     "data": {
      "text/plain": [
       "(array(['Happy', 'Neutral', 'Sad'], dtype='<U10'),\n",
       " array([22,  9,  7], dtype=int64))"
      ]
     },
     "execution_count": 90,
     "metadata": {},
     "output_type": "execute_result"
    }
   ],
   "source": [
    "# find if he is taking more than 4000 steps. how was his mood and frequency.\n",
    "\n",
    "np.unique(mood[steps_count>4000],return_counts =  True)\n",
    "\n",
    "# This is clear when is taking more than 4k steps a day then his mood was happy most of the time"
   ]
  },
  {
   "cell_type": "code",
   "execution_count": 92,
   "id": "4c96d0b1",
   "metadata": {},
   "outputs": [
    {
     "data": {
      "text/plain": [
       "(array(['Happy', 'Neutral', 'Sad'], dtype='<U10'),\n",
       " array([33, 18, 19], dtype=int64))"
      ]
     },
     "execution_count": 92,
     "metadata": {},
     "output_type": "execute_result"
    }
   ],
   "source": [
    "# find if he is sleeping for more than 4 hours. how was his mood and frequency.\n",
    "\n",
    "np.unique(mood[hours_of_sleep>4],return_counts =  True)\n",
    "\n",
    "# When he is sleeping for more than 4 hours. his mood was happy most of the time."
   ]
  },
  {
   "cell_type": "code",
   "execution_count": 93,
   "id": "d6f8c1d9",
   "metadata": {},
   "outputs": [],
   "source": [
    "# Final insights. \n",
    "# He should walk atleast 4000 steps every day and have a sound sleep of more than 4 hours. If he do this, he has great chance that his mood will be happt."
   ]
  },
  {
   "cell_type": "markdown",
   "id": "3f55c277",
   "metadata": {},
   "source": [
    "# Practice"
   ]
  },
  {
   "cell_type": "code",
   "execution_count": null,
   "id": "1753898a",
   "metadata": {},
   "outputs": [],
   "source": [
    "# SORTING FUNCTIONS ON 2D ARRAYS"
   ]
  },
  {
   "cell_type": "code",
   "execution_count": 4,
   "id": "26702e0f",
   "metadata": {},
   "outputs": [
    {
     "data": {
      "text/plain": [
       "array([1, 2, 2, 4, 4, 4, 4, 5, 5, 6, 6, 9])"
      ]
     },
     "execution_count": 4,
     "metadata": {},
     "output_type": "execute_result"
    }
   ],
   "source": [
    "# Simple sorting on 1d array.\n",
    "a = np.array([5,4,2,6,9,4,5,1,2,6,4,4])\n",
    "np.sort(a)"
   ]
  },
  {
   "cell_type": "code",
   "execution_count": 25,
   "id": "571635c8",
   "metadata": {},
   "outputs": [
    {
     "data": {
      "text/plain": [
       "array([[ 5,  8,  2,  7],\n",
       "       [ 9,  5,  8,  0],\n",
       "       [ 7,  2,  8,  1],\n",
       "       [ 2,  6, 20, 30]])"
      ]
     },
     "execution_count": 25,
     "metadata": {},
     "output_type": "execute_result"
    }
   ],
   "source": [
    "# now sorting on 2d arrays.\n",
    "# by default axis =-1\n",
    "b = np.array([[5,8,2,7],[9,5,8,0],[7,2,8,1],[2,6,20,30]])\n",
    "b"
   ]
  },
  {
   "cell_type": "code",
   "execution_count": 26,
   "id": "689c93e9",
   "metadata": {},
   "outputs": [
    {
     "data": {
      "text/plain": [
       "array([[ 2,  2,  2,  0],\n",
       "       [ 5,  5,  8,  1],\n",
       "       [ 7,  6,  8,  7],\n",
       "       [ 9,  8, 20, 30]])"
      ]
     },
     "execution_count": 26,
     "metadata": {},
     "output_type": "execute_result"
    }
   ],
   "source": [
    "# sorting in vertical direction.\n",
    "np.sort(b,axis=0)"
   ]
  },
  {
   "cell_type": "code",
   "execution_count": 27,
   "id": "c9029692",
   "metadata": {},
   "outputs": [
    {
     "data": {
      "text/plain": [
       "array([[ 2,  5,  7,  8],\n",
       "       [ 0,  5,  8,  9],\n",
       "       [ 1,  2,  7,  8],\n",
       "       [ 2,  6, 20, 30]])"
      ]
     },
     "execution_count": 27,
     "metadata": {},
     "output_type": "execute_result"
    }
   ],
   "source": [
    "# sorting in horizontal direction.\n",
    "np.sort(b,axis=1)"
   ]
  },
  {
   "cell_type": "code",
   "execution_count": 28,
   "id": "925488ad",
   "metadata": {},
   "outputs": [
    {
     "data": {
      "text/plain": [
       "array([[ 2,  5,  7,  8],\n",
       "       [ 0,  5,  8,  9],\n",
       "       [ 1,  2,  7,  8],\n",
       "       [ 2,  6, 20, 30]])"
      ]
     },
     "execution_count": 28,
     "metadata": {},
     "output_type": "execute_result"
    }
   ],
   "source": [
    "# negative axis -1 is same as axis = 1 in 2d np.arrays.\n",
    "\n",
    "np.sort(b,axis=-1)"
   ]
  },
  {
   "cell_type": "code",
   "execution_count": 29,
   "id": "0078dd32",
   "metadata": {},
   "outputs": [
    {
     "data": {
      "text/plain": [
       "array([[ 2,  2,  2,  0],\n",
       "       [ 5,  5,  8,  1],\n",
       "       [ 7,  6,  8,  7],\n",
       "       [ 9,  8, 20, 30]])"
      ]
     },
     "execution_count": 29,
     "metadata": {},
     "output_type": "execute_result"
    }
   ],
   "source": [
    "# negative axis -2 is same as axis = 0 in 2d np.arrays.\n",
    "np.sort(b,axis=-2)"
   ]
  },
  {
   "cell_type": "code",
   "execution_count": 30,
   "id": "a98ccaaf",
   "metadata": {},
   "outputs": [],
   "source": [
    "# argsort function.\n",
    "# arg sort function returns us the indices that would sort an array"
   ]
  },
  {
   "cell_type": "code",
   "execution_count": 31,
   "id": "5c225865",
   "metadata": {},
   "outputs": [
    {
     "data": {
      "text/plain": [
       "array([6, 7, 8, 3, 4, 5, 0, 1, 2], dtype=int64)"
      ]
     },
     "execution_count": 31,
     "metadata": {},
     "output_type": "execute_result"
    }
   ],
   "source": [
    "# simple 1d array\n",
    "a = np.array([7,8,9,4,5,6,1,2,3])\n",
    "np.argsort(a)"
   ]
  },
  {
   "cell_type": "code",
   "execution_count": 32,
   "id": "b8bfe392",
   "metadata": {},
   "outputs": [
    {
     "data": {
      "text/plain": [
       "2"
      ]
     },
     "execution_count": 32,
     "metadata": {},
     "output_type": "execute_result"
    }
   ],
   "source": [
    "# Also we can find the index of the maximum value in the np.array\n",
    "# using argmax function\n",
    "\n",
    "np.argmax(a)"
   ]
  },
  {
   "cell_type": "code",
   "execution_count": 33,
   "id": "bfabb606",
   "metadata": {},
   "outputs": [
    {
     "data": {
      "text/plain": [
       "6"
      ]
     },
     "execution_count": 33,
     "metadata": {},
     "output_type": "execute_result"
    }
   ],
   "source": [
    "# Also we can find the index of the minimum value in the np.array\n",
    "# using argmin function\n",
    "\n",
    "np.argmin(a)"
   ]
  },
  {
   "cell_type": "code",
   "execution_count": 34,
   "id": "5670b5f4",
   "metadata": {},
   "outputs": [
    {
     "data": {
      "text/plain": [
       "array([[3, 2, 0, 1],\n",
       "       [0, 1, 1, 2],\n",
       "       [2, 3, 2, 0],\n",
       "       [1, 0, 3, 3]], dtype=int64)"
      ]
     },
     "execution_count": 34,
     "metadata": {},
     "output_type": "execute_result"
    }
   ],
   "source": [
    "# let's take some examples of 2d arrays\n",
    "# argsort vertically\n",
    "\n",
    "np.argsort(b,axis=0)"
   ]
  },
  {
   "cell_type": "code",
   "execution_count": 36,
   "id": "d41cee92",
   "metadata": {},
   "outputs": [
    {
     "data": {
      "text/plain": [
       "array([[2, 0, 3, 1],\n",
       "       [3, 1, 2, 0],\n",
       "       [3, 1, 0, 2],\n",
       "       [0, 1, 2, 3]], dtype=int64)"
      ]
     },
     "execution_count": 36,
     "metadata": {},
     "output_type": "execute_result"
    }
   ],
   "source": [
    "#argsort horizontally\n",
    "\n",
    "np.argsort(b,axis=1)"
   ]
  },
  {
   "cell_type": "code",
   "execution_count": 37,
   "id": "d659b132",
   "metadata": {},
   "outputs": [
    {
     "data": {
      "text/plain": [
       "array([1, 0, 3, 3], dtype=int64)"
      ]
     },
     "execution_count": 37,
     "metadata": {},
     "output_type": "execute_result"
    }
   ],
   "source": [
    "# argmax vertically\n",
    "\n",
    "np.argmax(b,axis=0)"
   ]
  },
  {
   "cell_type": "code",
   "execution_count": 38,
   "id": "805e500c",
   "metadata": {},
   "outputs": [
    {
     "data": {
      "text/plain": [
       "array([1, 0, 2, 3], dtype=int64)"
      ]
     },
     "execution_count": 38,
     "metadata": {},
     "output_type": "execute_result"
    }
   ],
   "source": [
    "# argmax horizontally\n",
    "\n",
    "np.argmax(b,axis=1)"
   ]
  },
  {
   "cell_type": "code",
   "execution_count": 39,
   "id": "daf85f7c",
   "metadata": {},
   "outputs": [
    {
     "data": {
      "text/plain": [
       "15"
      ]
     },
     "execution_count": 39,
     "metadata": {},
     "output_type": "execute_result"
    }
   ],
   "source": [
    "# Since there is no default axis, It flattened the entire array and then give the index of maximum element.\n",
    "\n",
    "np.argmax(b)"
   ]
  },
  {
   "cell_type": "code",
   "execution_count": 40,
   "id": "f56d304b",
   "metadata": {},
   "outputs": [
    {
     "data": {
      "text/plain": [
       "array([3, 2, 0, 1], dtype=int64)"
      ]
     },
     "execution_count": 40,
     "metadata": {},
     "output_type": "execute_result"
    }
   ],
   "source": [
    "# Let's work with argmin\n",
    "# First Vertically\n",
    "\n",
    "np.argmin(b,axis=0)"
   ]
  },
  {
   "cell_type": "code",
   "execution_count": 41,
   "id": "e431b04b",
   "metadata": {},
   "outputs": [
    {
     "data": {
      "text/plain": [
       "array([2, 3, 3, 0], dtype=int64)"
      ]
     },
     "execution_count": 41,
     "metadata": {},
     "output_type": "execute_result"
    }
   ],
   "source": [
    "# Horizontally\n",
    "\n",
    "np.argmin(b,axis=1)"
   ]
  },
  {
   "cell_type": "code",
   "execution_count": 42,
   "id": "f5f0cdbd",
   "metadata": {},
   "outputs": [
    {
     "data": {
      "text/plain": [
       "7"
      ]
     },
     "execution_count": 42,
     "metadata": {},
     "output_type": "execute_result"
    }
   ],
   "source": [
    "np.argmin(b)"
   ]
  },
  {
   "cell_type": "markdown",
   "id": "b476277f",
   "metadata": {},
   "source": [
    "## Reshaping using -ve index"
   ]
  },
  {
   "cell_type": "code",
   "execution_count": 4,
   "id": "ed823bf5",
   "metadata": {},
   "outputs": [
    {
     "data": {
      "text/plain": [
       "array([[ 1,  2,  3,  4],\n",
       "       [ 5,  6,  7,  8],\n",
       "       [ 9, 10, 11, 12]])"
      ]
     },
     "execution_count": 4,
     "metadata": {},
     "output_type": "execute_result"
    }
   ],
   "source": [
    "a = np.arange(1,13).reshape(3,4)\n",
    "a"
   ]
  },
  {
   "cell_type": "code",
   "execution_count": 5,
   "id": "d80a0462",
   "metadata": {},
   "outputs": [
    {
     "data": {
      "text/plain": [
       "array([[ 1,  2,  3,  4,  5,  6,  7,  8,  9, 10, 11, 12]])"
      ]
     },
     "execution_count": 5,
     "metadata": {},
     "output_type": "execute_result"
    }
   ],
   "source": [
    "# Here i'm telling numpy. I don't know how many rows you will create\n",
    "a.reshape(-1,12)"
   ]
  },
  {
   "cell_type": "code",
   "execution_count": null,
   "id": "e5d558f1",
   "metadata": {},
   "outputs": [],
   "source": []
  }
 ],
 "metadata": {
  "kernelspec": {
   "display_name": "Python 3 (ipykernel)",
   "language": "python",
   "name": "python3"
  },
  "language_info": {
   "codemirror_mode": {
    "name": "ipython",
    "version": 3
   },
   "file_extension": ".py",
   "mimetype": "text/x-python",
   "name": "python",
   "nbconvert_exporter": "python",
   "pygments_lexer": "ipython3",
   "version": "3.11.2"
  }
 },
 "nbformat": 4,
 "nbformat_minor": 5
}

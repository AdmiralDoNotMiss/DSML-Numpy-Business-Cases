{
 "cells": [
  {
   "cell_type": "markdown",
   "id": "b90c7ff7",
   "metadata": {},
   "source": [
    "# Shallow copy VS Deep copy"
   ]
  },
  {
   "cell_type": "code",
   "execution_count": 2,
   "id": "bb7e5324",
   "metadata": {},
   "outputs": [],
   "source": [
    "import numpy as np"
   ]
  },
  {
   "cell_type": "code",
   "execution_count": 4,
   "id": "d05e326d",
   "metadata": {},
   "outputs": [
    {
     "data": {
      "text/plain": [
       "array([0, 1, 2, 3])"
      ]
     },
     "execution_count": 4,
     "metadata": {},
     "output_type": "execute_result"
    }
   ],
   "source": [
    "a = np.arange(4)\n",
    "a"
   ]
  },
  {
   "cell_type": "code",
   "execution_count": 6,
   "id": "29fd7069",
   "metadata": {},
   "outputs": [
    {
     "data": {
      "text/plain": [
       "array([[0, 1],\n",
       "       [2, 3]])"
      ]
     },
     "execution_count": 6,
     "metadata": {},
     "output_type": "execute_result"
    }
   ],
   "source": [
    "b = a.reshape((2,2))\n",
    "b"
   ]
  },
  {
   "cell_type": "code",
   "execution_count": 7,
   "id": "fee6e0bc",
   "metadata": {},
   "outputs": [
    {
     "data": {
      "text/plain": [
       "array([100,   1,   2,   3])"
      ]
     },
     "execution_count": 7,
     "metadata": {},
     "output_type": "execute_result"
    }
   ],
   "source": [
    "a[0]=100\n",
    "a"
   ]
  },
  {
   "cell_type": "code",
   "execution_count": 8,
   "id": "2a810bab",
   "metadata": {},
   "outputs": [
    {
     "data": {
      "text/plain": [
       "array([[100,   1],\n",
       "       [  2,   3]])"
      ]
     },
     "execution_count": 8,
     "metadata": {},
     "output_type": "execute_result"
    }
   ],
   "source": [
    "b"
   ]
  },
  {
   "cell_type": "code",
   "execution_count": 9,
   "id": "a16b114a",
   "metadata": {},
   "outputs": [],
   "source": [
    "# b here is nothing but a shallow copy of a\n",
    "# This is how numpy array works internally. it will not create a seperate memory block for b . Both a and b are sharing the same memory space.\n",
    "# It will just create a new header. And change values of the attributes of headers.\n",
    "# Some attributes of headers (ndim,nshape,nsize,stride(stepsize) etc.).\n"
   ]
  },
  {
   "cell_type": "code",
   "execution_count": 10,
   "id": "1ad22be3",
   "metadata": {},
   "outputs": [
    {
     "data": {
      "text/plain": [
       "True"
      ]
     },
     "execution_count": 10,
     "metadata": {},
     "output_type": "execute_result"
    }
   ],
   "source": [
    "# PROOF THEY ARE SHARING THE SAME MEMORY SPACE .\n",
    "\n",
    "np.shares_memory(a,b)"
   ]
  },
  {
   "cell_type": "code",
   "execution_count": 12,
   "id": "674e30e5",
   "metadata": {},
   "outputs": [
    {
     "data": {
      "text/plain": [
       "array([0, 1, 2, 3, 4])"
      ]
     },
     "execution_count": 12,
     "metadata": {},
     "output_type": "execute_result"
    }
   ],
   "source": [
    "# let's see some more examples.\n",
    "\n",
    "a = np.arange(5)\n",
    "a"
   ]
  },
  {
   "cell_type": "code",
   "execution_count": 19,
   "id": "d0e5c742",
   "metadata": {},
   "outputs": [
    {
     "name": "stdout",
     "output_type": "stream",
     "text": [
      "[2 3 4 5 6]\n"
     ]
    },
    {
     "data": {
      "text/plain": [
       "False"
      ]
     },
     "execution_count": 19,
     "metadata": {},
     "output_type": "execute_result"
    }
   ],
   "source": [
    "c=a+2\n",
    "print(c)\n",
    "np.shares_memory(a,c)\n",
    "\n"
   ]
  },
  {
   "cell_type": "code",
   "execution_count": 15,
   "id": "9694d2ba",
   "metadata": {},
   "outputs": [],
   "source": [
    "# In this example it will create a seperate memory space. Because we performed an operation(+).The value of the element of c is totally different.\n",
    "# And we have nothing in our headers. That fixes this.\n",
    "# A seperate memory block is created whenever one tries to perform an operation."
   ]
  },
  {
   "cell_type": "code",
   "execution_count": 16,
   "id": "f3965676",
   "metadata": {},
   "outputs": [
    {
     "data": {
      "text/plain": [
       "array([0, 1, 2, 3, 4])"
      ]
     },
     "execution_count": 16,
     "metadata": {},
     "output_type": "execute_result"
    }
   ],
   "source": [
    "d = a+0\n",
    "d"
   ]
  },
  {
   "cell_type": "code",
   "execution_count": 18,
   "id": "7e28fc2f",
   "metadata": {},
   "outputs": [
    {
     "data": {
      "text/plain": [
       "False"
      ]
     },
     "execution_count": 18,
     "metadata": {},
     "output_type": "execute_result"
    }
   ],
   "source": [
    "\n",
    "# In this example although we have same values. But we performed an operation.\n",
    "# It doesn't matter if we are adding just 0 to it.It will create a different memory space\n",
    "\n",
    "np.shares_memory(a,d)"
   ]
  },
  {
   "cell_type": "code",
   "execution_count": 20,
   "id": "7338d48a",
   "metadata": {},
   "outputs": [],
   "source": [
    "# How to create a shallow copy in Numpy. we do it by using VIEW FUNCTION\n",
    "view_a = a.view()"
   ]
  },
  {
   "cell_type": "markdown",
   "id": "f7df9937",
   "metadata": {},
   "source": [
    "# Deep copy\n",
    "### Deep copy means exact same copy but in a different memory location."
   ]
  },
  {
   "cell_type": "code",
   "execution_count": 21,
   "id": "3e47c3d2",
   "metadata": {},
   "outputs": [
    {
     "data": {
      "text/plain": [
       "array([0, 1, 2, 3, 4, 5, 6, 7, 8, 9])"
      ]
     },
     "execution_count": 21,
     "metadata": {},
     "output_type": "execute_result"
    }
   ],
   "source": [
    "# How do I  create a proper deep copy in numpy.\n",
    "# Two functions we will see (a).  .copy()  (b) copy.deepcopy()\n",
    "a = np.arange(10)\n",
    "a"
   ]
  },
  {
   "cell_type": "code",
   "execution_count": 22,
   "id": "c3d16f19",
   "metadata": {},
   "outputs": [
    {
     "data": {
      "text/plain": [
       "array([0, 1, 2, 3, 4, 5, 6, 7, 8, 9])"
      ]
     },
     "execution_count": 22,
     "metadata": {},
     "output_type": "execute_result"
    }
   ],
   "source": [
    "b = a.copy()\n",
    "b"
   ]
  },
  {
   "cell_type": "code",
   "execution_count": 24,
   "id": "8769ff3e",
   "metadata": {},
   "outputs": [
    {
     "data": {
      "text/plain": [
       "False"
      ]
     },
     "execution_count": 24,
     "metadata": {},
     "output_type": "execute_result"
    }
   ],
   "source": [
    "np.shares_memory(a,b)"
   ]
  },
  {
   "cell_type": "code",
   "execution_count": 26,
   "id": "6014382d",
   "metadata": {},
   "outputs": [
    {
     "name": "stdout",
     "output_type": "stream",
     "text": [
      "[[1 2 3]\n",
      " [4 5 6]]\n",
      "----------------------------------------------------------------------------------------------------\n",
      "[[1 2 3]\n",
      " [4 5 6]]\n"
     ]
    }
   ],
   "source": [
    "# One more example\n",
    "\n",
    "a = np.array([[1,2,3],[4,5,6]])\n",
    "print(a)\n",
    "\n",
    "print('-'*100)\n",
    "\n",
    "b = a.copy()\n",
    "print(b)"
   ]
  },
  {
   "cell_type": "code",
   "execution_count": 27,
   "id": "755e94db",
   "metadata": {},
   "outputs": [
    {
     "data": {
      "text/plain": [
       "array([[100,   2,   3],\n",
       "       [  4,   5,   6]])"
      ]
     },
     "execution_count": 27,
     "metadata": {},
     "output_type": "execute_result"
    }
   ],
   "source": [
    "a[0,0]=100\n",
    "\n",
    "a"
   ]
  },
  {
   "cell_type": "code",
   "execution_count": 28,
   "id": "88ec11c2",
   "metadata": {},
   "outputs": [
    {
     "data": {
      "text/plain": [
       "array([[1, 2, 3],\n",
       "       [4, 5, 6]])"
      ]
     },
     "execution_count": 28,
     "metadata": {},
     "output_type": "execute_result"
    }
   ],
   "source": [
    "b"
   ]
  },
  {
   "cell_type": "code",
   "execution_count": 29,
   "id": "96cf67fa",
   "metadata": {},
   "outputs": [
    {
     "data": {
      "text/plain": [
       "False"
      ]
     },
     "execution_count": 29,
     "metadata": {},
     "output_type": "execute_result"
    }
   ],
   "source": [
    "np.shares_memory(a,b)"
   ]
  },
  {
   "cell_type": "code",
   "execution_count": 30,
   "id": "725e275d",
   "metadata": {},
   "outputs": [],
   "source": [
    "# Hence this is a deep copy. Not sharing the same memory space\n",
    "# But there is a problem here with .copy()\n",
    "# we will see our problem with an example"
   ]
  },
  {
   "cell_type": "code",
   "execution_count": 34,
   "id": "40003db7",
   "metadata": {},
   "outputs": [
    {
     "data": {
      "text/plain": [
       "array([1, 'r', list([1, 2, 3])], dtype=object)"
      ]
     },
     "execution_count": 34,
     "metadata": {},
     "output_type": "execute_result"
    }
   ],
   "source": [
    "c = np.array([1,'r',[1,2,3]],dtype='object')\n",
    "c\n"
   ]
  },
  {
   "cell_type": "code",
   "execution_count": 35,
   "id": "a2b8067f",
   "metadata": {},
   "outputs": [
    {
     "data": {
      "text/plain": [
       "array([1, 'r', list([1, 2, 3])], dtype=object)"
      ]
     },
     "execution_count": 35,
     "metadata": {},
     "output_type": "execute_result"
    }
   ],
   "source": [
    "d"
   ]
  },
  {
   "cell_type": "code",
   "execution_count": 36,
   "id": "8452118a",
   "metadata": {},
   "outputs": [],
   "source": [
    "# Now if I change the elements of C. d will be affected as well. Even after knowing the fact that we created a deep copy.\n",
    "# This is because of an exception(object dtype). whenever we have object datatype deep copy will create a shallow copy only. "
   ]
  },
  {
   "cell_type": "code",
   "execution_count": 50,
   "id": "5e3cbd2b",
   "metadata": {},
   "outputs": [
    {
     "data": {
      "text/plain": [
       "array([1, 'k', list([100, 2, 3])], dtype=object)"
      ]
     },
     "execution_count": 50,
     "metadata": {},
     "output_type": "execute_result"
    }
   ],
   "source": [
    "c[2][0]=100\n",
    "c"
   ]
  },
  {
   "cell_type": "code",
   "execution_count": 51,
   "id": "605e7793",
   "metadata": {},
   "outputs": [
    {
     "data": {
      "text/plain": [
       "array([1, 'k', list([1, 2, 3])], dtype=object)"
      ]
     },
     "execution_count": 51,
     "metadata": {},
     "output_type": "execute_result"
    }
   ],
   "source": [
    "d"
   ]
  },
  {
   "cell_type": "code",
   "execution_count": 42,
   "id": "1e572f15",
   "metadata": {},
   "outputs": [],
   "source": [
    "# To fix this and Always to be in safe side. We use copy.deepcopy(). Deepcopy will eliminate this.\n",
    "# We have to import copy module first\n"
   ]
  },
  {
   "cell_type": "code",
   "execution_count": 43,
   "id": "9bad0c43",
   "metadata": {},
   "outputs": [],
   "source": [
    "import copy\n"
   ]
  },
  {
   "cell_type": "code",
   "execution_count": 44,
   "id": "e8762c74",
   "metadata": {},
   "outputs": [
    {
     "data": {
      "text/plain": [
       "array([1, 'k', list([1, 2, 3])], dtype=object)"
      ]
     },
     "execution_count": 44,
     "metadata": {},
     "output_type": "execute_result"
    }
   ],
   "source": [
    "c = np.array([1,'k',[1,2,3]],dtype='object')\n",
    "c"
   ]
  },
  {
   "cell_type": "code",
   "execution_count": 45,
   "id": "1f0af51a",
   "metadata": {},
   "outputs": [],
   "source": [
    "d = copy.deepcopy(c)"
   ]
  },
  {
   "cell_type": "code",
   "execution_count": 46,
   "id": "5ef1cca1",
   "metadata": {},
   "outputs": [
    {
     "data": {
      "text/plain": [
       "array([1, 'k', list([1, 2, 3])], dtype=object)"
      ]
     },
     "execution_count": 46,
     "metadata": {},
     "output_type": "execute_result"
    }
   ],
   "source": [
    "d"
   ]
  },
  {
   "cell_type": "code",
   "execution_count": 47,
   "id": "20d0bbbb",
   "metadata": {},
   "outputs": [
    {
     "data": {
      "text/plain": [
       "array([1, 'k', list([100, 2, 3])], dtype=object)"
      ]
     },
     "execution_count": 47,
     "metadata": {},
     "output_type": "execute_result"
    }
   ],
   "source": [
    "c[2][0] = 100\n",
    "c"
   ]
  },
  {
   "cell_type": "code",
   "execution_count": 48,
   "id": "f8721328",
   "metadata": {},
   "outputs": [
    {
     "data": {
      "text/plain": [
       "array([1, 'k', list([1, 2, 3])], dtype=object)"
      ]
     },
     "execution_count": 48,
     "metadata": {},
     "output_type": "execute_result"
    }
   ],
   "source": [
    "d"
   ]
  },
  {
   "cell_type": "code",
   "execution_count": 53,
   "id": "7e878917",
   "metadata": {},
   "outputs": [
    {
     "data": {
      "text/plain": [
       "False"
      ]
     },
     "execution_count": 53,
     "metadata": {},
     "output_type": "execute_result"
    }
   ],
   "source": [
    "np.shares_memory(c,d)"
   ]
  },
  {
   "cell_type": "markdown",
   "id": "8bef3812",
   "metadata": {},
   "source": [
    " # Expansion and Reduction"
   ]
  },
  {
   "cell_type": "code",
   "execution_count": 55,
   "id": "6a231727",
   "metadata": {},
   "outputs": [
    {
     "data": {
      "text/plain": [
       "(9,)"
      ]
     },
     "execution_count": 55,
     "metadata": {},
     "output_type": "execute_result"
    }
   ],
   "source": [
    "a = np.arange(9)\n",
    "a.shape"
   ]
  },
  {
   "cell_type": "code",
   "execution_count": 56,
   "id": "ab62be5b",
   "metadata": {},
   "outputs": [
    {
     "data": {
      "text/plain": [
       "(3, 3)"
      ]
     },
     "execution_count": 56,
     "metadata": {},
     "output_type": "execute_result"
    }
   ],
   "source": [
    "b = a.reshape((3,3))\n",
    "b.shape"
   ]
  },
  {
   "cell_type": "code",
   "execution_count": 57,
   "id": "c540ff46",
   "metadata": {},
   "outputs": [],
   "source": [
    "# we expanded our dimension, earlier it was 1d now it is 2d."
   ]
  },
  {
   "cell_type": "code",
   "execution_count": 59,
   "id": "1656f5c7",
   "metadata": {},
   "outputs": [
    {
     "data": {
      "text/plain": [
       "array([[[0],\n",
       "        [1],\n",
       "        [2]],\n",
       "\n",
       "       [[3],\n",
       "        [4],\n",
       "        [5]],\n",
       "\n",
       "       [[6],\n",
       "        [7],\n",
       "        [8]]])"
      ]
     },
     "execution_count": 59,
     "metadata": {},
     "output_type": "execute_result"
    }
   ],
   "source": [
    "c = a.reshape((3,3,1))\n",
    "c\n",
    "# Now it is in 3d"
   ]
  },
  {
   "cell_type": "code",
   "execution_count": 61,
   "id": "24263a90",
   "metadata": {},
   "outputs": [
    {
     "data": {
      "text/plain": [
       "array([[[[[[[0]]]]],\n",
       "\n",
       "\n",
       "\n",
       "\n",
       "        [[[[[1]]]]],\n",
       "\n",
       "\n",
       "\n",
       "\n",
       "        [[[[[2]]]]]],\n",
       "\n",
       "\n",
       "\n",
       "\n",
       "\n",
       "       [[[[[[3]]]]],\n",
       "\n",
       "\n",
       "\n",
       "\n",
       "        [[[[[4]]]]],\n",
       "\n",
       "\n",
       "\n",
       "\n",
       "        [[[[[5]]]]]],\n",
       "\n",
       "\n",
       "\n",
       "\n",
       "\n",
       "       [[[[[[6]]]]],\n",
       "\n",
       "\n",
       "\n",
       "\n",
       "        [[[[[7]]]]],\n",
       "\n",
       "\n",
       "\n",
       "\n",
       "        [[[[[8]]]]]]])"
      ]
     },
     "execution_count": 61,
     "metadata": {},
     "output_type": "execute_result"
    }
   ],
   "source": [
    "d = a.reshape((3,3,1,1,1,1,1))\n",
    "d\n",
    "# Now it is in 7d"
   ]
  },
  {
   "cell_type": "code",
   "execution_count": 62,
   "id": "10a2678e",
   "metadata": {},
   "outputs": [],
   "source": [
    "# What if we don't want to use reshape every time\n",
    "# we will use two seperate fuunctions 1). np.expand_dims, 2). np.newaxis / None."
   ]
  },
  {
   "cell_type": "code",
   "execution_count": 66,
   "id": "8b0df107",
   "metadata": {},
   "outputs": [
    {
     "data": {
      "text/plain": [
       "(1, 9)"
      ]
     },
     "execution_count": 66,
     "metadata": {},
     "output_type": "execute_result"
    }
   ],
   "source": [
    "e = np.expand_dims(a,axis=0)\n",
    "e.shape\n",
    "\n",
    "# earlier a was 1d. Now it is 2d"
   ]
  },
  {
   "cell_type": "code",
   "execution_count": 68,
   "id": "c0bce5d7",
   "metadata": {},
   "outputs": [
    {
     "data": {
      "text/plain": [
       "(9, 1)"
      ]
     },
     "execution_count": 68,
     "metadata": {},
     "output_type": "execute_result"
    }
   ],
   "source": [
    "f = np.expand_dims(a,axis=1)\n",
    "f.shape"
   ]
  },
  {
   "cell_type": "code",
   "execution_count": 69,
   "id": "e28ce761",
   "metadata": {},
   "outputs": [],
   "source": [
    " # Some more examples"
   ]
  },
  {
   "cell_type": "code",
   "execution_count": 70,
   "id": "f3030e43",
   "metadata": {},
   "outputs": [
    {
     "data": {
      "text/plain": [
       "(3, 4)"
      ]
     },
     "execution_count": 70,
     "metadata": {},
     "output_type": "execute_result"
    }
   ],
   "source": [
    "a = np.arange(1,13).reshape((3,4))\n",
    "a.shape"
   ]
  },
  {
   "cell_type": "code",
   "execution_count": 73,
   "id": "6a159fa5",
   "metadata": {},
   "outputs": [
    {
     "data": {
      "text/plain": [
       "(3, 1, 4)"
      ]
     },
     "execution_count": 73,
     "metadata": {},
     "output_type": "execute_result"
    }
   ],
   "source": [
    "b = np.expand_dims(a,axis=1)\n",
    "b.shape\n",
    "\n",
    "# Think of axis as index. It will be easy for you to understand."
   ]
  },
  {
   "cell_type": "code",
   "execution_count": 75,
   "id": "e0ad7df1",
   "metadata": {},
   "outputs": [
    {
     "data": {
      "text/plain": [
       "(3, 4, 1)"
      ]
     },
     "execution_count": 75,
     "metadata": {},
     "output_type": "execute_result"
    }
   ],
   "source": [
    "c=np.expand_dims(a,axis=2)\n",
    "c.shape"
   ]
  },
  {
   "cell_type": "code",
   "execution_count": 76,
   "id": "b22de5f7",
   "metadata": {},
   "outputs": [],
   "source": [
    "# But what if want to create 1d to 4d/7d/100d directly.\n",
    "# For that we will use our next function. np.newaxis / None"
   ]
  },
  {
   "cell_type": "code",
   "execution_count": 77,
   "id": "e8b4651d",
   "metadata": {},
   "outputs": [
    {
     "data": {
      "text/plain": [
       "(3, 4)"
      ]
     },
     "execution_count": 77,
     "metadata": {},
     "output_type": "execute_result"
    }
   ],
   "source": [
    "a.shape"
   ]
  },
  {
   "cell_type": "code",
   "execution_count": 78,
   "id": "2cce9ce0",
   "metadata": {},
   "outputs": [
    {
     "data": {
      "text/plain": [
       "(3, 1, 4, 1)"
      ]
     },
     "execution_count": 78,
     "metadata": {},
     "output_type": "execute_result"
    }
   ],
   "source": [
    "a[:,np.newaxis,:,np.newaxis].shape"
   ]
  },
  {
   "cell_type": "code",
   "execution_count": 79,
   "id": "67e77c18",
   "metadata": {},
   "outputs": [
    {
     "data": {
      "text/plain": [
       "(1, 1, 1, 1, 1, 1, 3, 4)"
      ]
     },
     "execution_count": 79,
     "metadata": {},
     "output_type": "execute_result"
    }
   ],
   "source": [
    "# Can create as many as we want\n",
    "a[np.newaxis,np.newaxis,np.newaxis,np.newaxis,np.newaxis,np.newaxis,:,:].shape"
   ]
  },
  {
   "cell_type": "code",
   "execution_count": 80,
   "id": "b946e7f4",
   "metadata": {},
   "outputs": [
    {
     "data": {
      "text/plain": [
       "(1, 1, 1, 3, 4)"
      ]
     },
     "execution_count": 80,
     "metadata": {},
     "output_type": "execute_result"
    }
   ],
   "source": [
    "a[None,None,None,:,:].shape"
   ]
  },
  {
   "cell_type": "markdown",
   "id": "718b4054",
   "metadata": {},
   "source": [
    "# Reduction. \n",
    "## Reduces all the ones"
   ]
  },
  {
   "cell_type": "code",
   "execution_count": 82,
   "id": "376e3584",
   "metadata": {},
   "outputs": [
    {
     "data": {
      "text/plain": [
       "(1, 3, 1, 1, 1, 4, 1)"
      ]
     },
     "execution_count": 82,
     "metadata": {},
     "output_type": "execute_result"
    }
   ],
   "source": [
    "# we will use squeeze function. It will remove all the ones.\n",
    "\n",
    "a = np.arange(1,13).reshape((1,3,1,1,1,4,1))\n",
    "a.shape"
   ]
  },
  {
   "cell_type": "code",
   "execution_count": 84,
   "id": "46da3e67",
   "metadata": {},
   "outputs": [
    {
     "data": {
      "text/plain": [
       "(3, 4)"
      ]
     },
     "execution_count": 84,
     "metadata": {},
     "output_type": "execute_result"
    }
   ],
   "source": [
    "np.squeeze(a).shape"
   ]
  },
  {
   "cell_type": "markdown",
   "id": "7c5799e6",
   "metadata": {},
   "source": [
    "# Stacking\n",
    "\\\n",
    "## Spliting"
   ]
  },
  {
   "cell_type": "code",
   "execution_count": 88,
   "id": "320c30a3",
   "metadata": {},
   "outputs": [
    {
     "data": {
      "text/plain": [
       "array([ 1,  2,  3,  4,  5,  6,  7,  8,  9, 10, 11, 12])"
      ]
     },
     "execution_count": 88,
     "metadata": {},
     "output_type": "execute_result"
    }
   ],
   "source": [
    "a = np.arange(1,13)\n",
    "a"
   ]
  },
  {
   "cell_type": "code",
   "execution_count": 90,
   "id": "b5b88d12",
   "metadata": {},
   "outputs": [
    {
     "data": {
      "text/plain": [
       "[array([1, 2, 3, 4]), array([5, 6, 7, 8]), array([ 9, 10, 11, 12])]"
      ]
     },
     "execution_count": 90,
     "metadata": {},
     "output_type": "execute_result"
    }
   ],
   "source": [
    "# what if you want it to split in 3 equal parts\n",
    "\n",
    "np.split(a,3)\n",
    "\n",
    "# It will give you a list of 3 equal numpy sub arrays."
   ]
  },
  {
   "cell_type": "code",
   "execution_count": 92,
   "id": "e3a48f05",
   "metadata": {},
   "outputs": [
    {
     "data": {
      "text/plain": [
       "[array([1, 2, 3, 4]), array([5]), array([ 6,  7,  8,  9, 10, 11, 12])]"
      ]
     },
     "execution_count": 92,
     "metadata": {},
     "output_type": "execute_result"
    }
   ],
   "source": [
    "# We can do it many different ways.\n",
    "\n",
    "np.split(a,[4,5])\n",
    "\n",
    "# This is like slicing we will always go in right direction. first 0-4 (excluding 4) AND then 4 to 5(excluding 5) AND then 5 to end."
   ]
  },
  {
   "cell_type": "code",
   "execution_count": 94,
   "id": "2cd6bb36",
   "metadata": {},
   "outputs": [
    {
     "data": {
      "text/plain": [
       "[array([1, 2, 3, 4]),\n",
       " array([5]),\n",
       " array([], dtype=int32),\n",
       " array([ 6,  7,  8,  9, 10, 11, 12])]"
      ]
     },
     "execution_count": 94,
     "metadata": {},
     "output_type": "execute_result"
    }
   ],
   "source": [
    "np.split(a,[4,5,5])\n",
    "\n",
    "# IT will not give us an error, rather it will give us an empty subarray."
   ]
  },
  {
   "cell_type": "code",
   "execution_count": 95,
   "id": "8a01e18a",
   "metadata": {},
   "outputs": [],
   "source": [
    "# We can also jumbled it like this. Still it will not give us any error."
   ]
  },
  {
   "cell_type": "code",
   "execution_count": 96,
   "id": "7109c522",
   "metadata": {},
   "outputs": [
    {
     "data": {
      "text/plain": [
       "[array([1, 2, 3, 4]),\n",
       " array([5]),\n",
       " array([6, 7]),\n",
       " array([], dtype=int32),\n",
       " array([ 6,  7,  8,  9, 10, 11, 12])]"
      ]
     },
     "execution_count": 96,
     "metadata": {},
     "output_type": "execute_result"
    }
   ],
   "source": [
    "np.split(a,[4,5,7,5])"
   ]
  },
  {
   "cell_type": "code",
   "execution_count": 97,
   "id": "683add10",
   "metadata": {},
   "outputs": [
    {
     "data": {
      "text/plain": [
       "[array([1, 2, 3, 4]),\n",
       " array([5, 6]),\n",
       " array([ 7,  8,  9, 10, 11, 12]),\n",
       " array([], dtype=int32)]"
      ]
     },
     "execution_count": 97,
     "metadata": {},
     "output_type": "execute_result"
    }
   ],
   "source": [
    "np.split(a,[4,6,30])"
   ]
  },
  {
   "cell_type": "code",
   "execution_count": 100,
   "id": "1d983a6e",
   "metadata": {},
   "outputs": [
    {
     "data": {
      "text/plain": [
       "[array([1, 2, 3, 4, 5, 6, 7]), array([ 8,  9, 10]), array([11, 12])]"
      ]
     },
     "execution_count": 100,
     "metadata": {},
     "output_type": "execute_result"
    }
   ],
   "source": [
    "np.split(a,[-5,-2])\n",
    "\n",
    "# It will work However it always goes in right direction"
   ]
  },
  {
   "cell_type": "code",
   "execution_count": 101,
   "id": "e5b9cf80",
   "metadata": {},
   "outputs": [],
   "source": [
    "# Now let's dive into 2d numpy arrays"
   ]
  },
  {
   "cell_type": "code",
   "execution_count": 102,
   "id": "7999a822",
   "metadata": {},
   "outputs": [
    {
     "data": {
      "text/plain": [
       "array([[ 1,  2,  3,  4],\n",
       "       [ 5,  6,  7,  8],\n",
       "       [ 9, 10, 11, 12]])"
      ]
     },
     "execution_count": 102,
     "metadata": {},
     "output_type": "execute_result"
    }
   ],
   "source": [
    "a = np.arange(1,13).reshape((3,4))\n",
    "a"
   ]
  },
  {
   "cell_type": "code",
   "execution_count": 104,
   "id": "fd8ee250",
   "metadata": {},
   "outputs": [
    {
     "data": {
      "text/plain": [
       "[array([[1, 2, 3, 4]]), array([[5, 6, 7, 8]]), array([[ 9, 10, 11, 12]])]"
      ]
     },
     "execution_count": 104,
     "metadata": {},
     "output_type": "execute_result"
    }
   ],
   "source": [
    "# By default axis = 0\n",
    "# we are vertically dividing into 3 equal parts\n",
    "\n",
    "np.split(a,3)"
   ]
  },
  {
   "cell_type": "code",
   "execution_count": 105,
   "id": "5fe91905",
   "metadata": {},
   "outputs": [
    {
     "data": {
      "text/plain": [
       "[array([[ 1,  2],\n",
       "        [ 5,  6],\n",
       "        [ 9, 10]]),\n",
       " array([[ 3,  4],\n",
       "        [ 7,  8],\n",
       "        [11, 12]])]"
      ]
     },
     "execution_count": 105,
     "metadata": {},
     "output_type": "execute_result"
    }
   ],
   "source": [
    "np.split(a,2,axis=1)"
   ]
  },
  {
   "cell_type": "code",
   "execution_count": 107,
   "id": "d7a48486",
   "metadata": {},
   "outputs": [
    {
     "data": {
      "text/plain": [
       "array([[ 1,  2,  3,  4],\n",
       "       [ 5,  6,  7,  8],\n",
       "       [ 9, 10, 11, 12]])"
      ]
     },
     "execution_count": 107,
     "metadata": {},
     "output_type": "execute_result"
    }
   ],
   "source": [
    "a"
   ]
  },
  {
   "cell_type": "code",
   "execution_count": 108,
   "id": "4609feaa",
   "metadata": {},
   "outputs": [
    {
     "data": {
      "text/plain": [
       "[array([[1, 2, 3, 4]]),\n",
       " array([[ 5,  6,  7,  8],\n",
       "        [ 9, 10, 11, 12]])]"
      ]
     },
     "execution_count": 108,
     "metadata": {},
     "output_type": "execute_result"
    }
   ],
   "source": [
    "np.split(a,[1],axis=0)"
   ]
  },
  {
   "cell_type": "code",
   "execution_count": 110,
   "id": "814f7df8",
   "metadata": {},
   "outputs": [
    {
     "data": {
      "text/plain": [
       "[array([[ 1,  2],\n",
       "        [ 5,  6],\n",
       "        [ 9, 10]]),\n",
       " array([[ 3],\n",
       "        [ 7],\n",
       "        [11]]),\n",
       " array([[ 4],\n",
       "        [ 8],\n",
       "        [12]])]"
      ]
     },
     "execution_count": 110,
     "metadata": {},
     "output_type": "execute_result"
    }
   ],
   "source": [
    "np.split(a,[2,3],axis=1)"
   ]
  },
  {
   "cell_type": "code",
   "execution_count": 111,
   "id": "4bf4e65a",
   "metadata": {},
   "outputs": [],
   "source": [
    "# TO AVOID THE CONFUSION OF AXIS. WE HAVE TWO INBUILT FUNCTIONS IN NUMPY.\n",
    "# 1). np.hsplit() , 2).np.vsplit()"
   ]
  },
  {
   "cell_type": "code",
   "execution_count": 112,
   "id": "17372371",
   "metadata": {},
   "outputs": [
    {
     "data": {
      "text/plain": [
       "[array([[1, 2, 3, 4]]), array([[5, 6, 7, 8]]), array([[ 9, 10, 11, 12]])]"
      ]
     },
     "execution_count": 112,
     "metadata": {},
     "output_type": "execute_result"
    }
   ],
   "source": [
    "np.vsplit(a,3)"
   ]
  },
  {
   "cell_type": "code",
   "execution_count": 113,
   "id": "0a5a172b",
   "metadata": {},
   "outputs": [
    {
     "data": {
      "text/plain": [
       "[array([[ 1,  2],\n",
       "        [ 5,  6],\n",
       "        [ 9, 10]]),\n",
       " array([[ 3,  4],\n",
       "        [ 7,  8],\n",
       "        [11, 12]])]"
      ]
     },
     "execution_count": 113,
     "metadata": {},
     "output_type": "execute_result"
    }
   ],
   "source": [
    "np.hsplit(a,2)"
   ]
  },
  {
   "cell_type": "markdown",
   "id": "38dbd741",
   "metadata": {},
   "source": [
    "# Assignments"
   ]
  },
  {
   "cell_type": "code",
   "execution_count": 118,
   "id": "51adebf0",
   "metadata": {},
   "outputs": [
    {
     "data": {
      "text/plain": [
       "'\\nWhich of the following code will NOT throw an error ? \\n\\nA. \\narr1 = np.array([1,2,3])\\narr2 = np.array([9,8,7])\\nnp.dot(arr1, arr2)\\n \\nB.\\narr1 = np.array([[1,2], [3,4]])\\narr2 = np.array([[1], [2]])\\nnp.dot(arr1, arr2)\\n \\nC.\\narr1 = np.array([1,2,3])\\nk = 3\\nnp.dot(arr1, k)\\n \\nD.\\narr1 = np.array([[1,2], [3,4]])\\narr2 = np.array([1,1])\\nnp.dot(arr1, arr2)\\n\\n'"
      ]
     },
     "execution_count": 118,
     "metadata": {},
     "output_type": "execute_result"
    }
   ],
   "source": [
    "\"\"\"\n",
    "Which of the following code will NOT throw an error ? \n",
    "\n",
    "A. \n",
    "arr1 = np.array([1,2,3])\n",
    "arr2 = np.array([9,8,7])\n",
    "np.dot(arr1, arr2)\n",
    " \n",
    "B.\n",
    "arr1 = np.array([[1,2], [3,4]])\n",
    "arr2 = np.array([[1], [2]])\n",
    "np.dot(arr1, arr2)\n",
    " \n",
    "C.\n",
    "arr1 = np.array([1,2,3])\n",
    "k = 3\n",
    "np.dot(arr1, k)\n",
    " \n",
    "D.\n",
    "arr1 = np.array([[1,2], [3,4]])\n",
    "arr2 = np.array([1,1])\n",
    "np.dot(arr1, arr2)\n",
    "\n",
    "\"\"\"\n",
    "\n",
    "# Solution - None of these"
   ]
  },
  {
   "cell_type": "code",
   "execution_count": 119,
   "id": "f146db66",
   "metadata": {},
   "outputs": [
    {
     "data": {
      "text/plain": [
       "46"
      ]
     },
     "execution_count": 119,
     "metadata": {},
     "output_type": "execute_result"
    }
   ],
   "source": [
    "arr1 = np.array([1,2,3])\n",
    "arr2 = np.array([9,8,7])\n",
    "np.dot(arr1, arr2)"
   ]
  },
  {
   "cell_type": "code",
   "execution_count": 120,
   "id": "7a3d4037",
   "metadata": {},
   "outputs": [
    {
     "data": {
      "text/plain": [
       "array([[ 5],\n",
       "       [11]])"
      ]
     },
     "execution_count": 120,
     "metadata": {},
     "output_type": "execute_result"
    }
   ],
   "source": [
    "arr1 = np.array([[1,2], [3,4]])\n",
    "arr2 = np.array([[1], [2]])\n",
    "np.dot(arr1, arr2)"
   ]
  },
  {
   "cell_type": "code",
   "execution_count": 121,
   "id": "79173713",
   "metadata": {},
   "outputs": [
    {
     "data": {
      "text/plain": [
       "array([3, 6, 9])"
      ]
     },
     "execution_count": 121,
     "metadata": {},
     "output_type": "execute_result"
    }
   ],
   "source": [
    "arr1 = np.array([1,2,3])\n",
    "k = 3\n",
    "np.dot(arr1, k)"
   ]
  },
  {
   "cell_type": "code",
   "execution_count": 122,
   "id": "60be29d2",
   "metadata": {},
   "outputs": [
    {
     "data": {
      "text/plain": [
       "array([3, 7])"
      ]
     },
     "execution_count": 122,
     "metadata": {},
     "output_type": "execute_result"
    }
   ],
   "source": [
    "arr1 = np.array([[1,2], [3,4]])\n",
    "arr2 = np.array([1,1])\n",
    "np.dot(arr1, arr2)"
   ]
  },
  {
   "cell_type": "code",
   "execution_count": 128,
   "id": "eef2f77b",
   "metadata": {},
   "outputs": [],
   "source": [
    "\n",
    "# What will be the outcome of the following code snippet ?\n",
    "\n",
    "\n",
    "# x = np.ones((5,5))*[1:-1,1:-1] = 0\n",
    "\n",
    "#solution should be some thing like this\n",
    "\n",
    "#[[1. 1. 1. 1. 1.]\n",
    "#[1. 0. 0. 0. 1.]\n",
    "#[1. 0. 0. 0. 1.]\n",
    "#[1. 0. 0. 0. 1.]\n",
    "#[1. 1. 1. 1. 1.]]"
   ]
  },
  {
   "cell_type": "code",
   "execution_count": null,
   "id": "815f7e13",
   "metadata": {},
   "outputs": [],
   "source": []
  }
 ],
 "metadata": {
  "kernelspec": {
   "display_name": "Python 3 (ipykernel)",
   "language": "python",
   "name": "python3"
  },
  "language_info": {
   "codemirror_mode": {
    "name": "ipython",
    "version": 3
   },
   "file_extension": ".py",
   "mimetype": "text/x-python",
   "name": "python",
   "nbconvert_exporter": "python",
   "pygments_lexer": "ipython3",
   "version": "3.11.2"
  }
 },
 "nbformat": 4,
 "nbformat_minor": 5
}

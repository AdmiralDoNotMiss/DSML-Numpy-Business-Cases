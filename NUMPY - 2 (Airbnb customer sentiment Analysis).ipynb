{
 "cells": [
  {
   "cell_type": "markdown",
   "id": "ca97f672",
   "metadata": {},
   "source": [
    "# NPS Score of Airbnb "
   ]
  },
  {
   "cell_type": "code",
   "execution_count": 5,
   "id": "4a628c22",
   "metadata": {},
   "outputs": [
    {
     "name": "stderr",
     "output_type": "stream",
     "text": [
      "Downloading...\n",
      "From: https://drive.google.com/uc?id=14bd7pg9d3CbhcxdT6EGMDgvgMHrSjKR8\n",
      "To: C:\\Users\\htc\\survey.txt\n",
      "\n",
      "  0%|          | 0.00/2.55k [00:00<?, ?B/s]\n",
      "100%|##########| 2.55k/2.55k [00:00<?, ?B/s]\n"
     ]
    }
   ],
   "source": [
    "!gdown 14bd7pg9d3CbhcxdT6EGMDgvgMHrSjKR8"
   ]
  },
  {
   "cell_type": "code",
   "execution_count": 23,
   "id": "cbcabd37",
   "metadata": {},
   "outputs": [],
   "source": [
    "import numpy as np\n",
    "\n",
    "score = np.loadtxt(\"C:/Users/htc/survey.txt\",dtype = 'int')"
   ]
  },
  {
   "cell_type": "code",
   "execution_count": 24,
   "id": "c3e8eadf",
   "metadata": {},
   "outputs": [
    {
     "data": {
      "text/plain": [
       "array([ 7, 10,  5, ...,  5,  9, 10])"
      ]
     },
     "execution_count": 24,
     "metadata": {},
     "output_type": "execute_result"
    }
   ],
   "source": [
    "# Now I have a Numpy array (score) which is nothing but customer's rating.\n",
    "score"
   ]
  },
  {
   "cell_type": "code",
   "execution_count": 25,
   "id": "42879fd7",
   "metadata": {},
   "outputs": [
    {
     "data": {
      "text/plain": [
       "(1167,)"
      ]
     },
     "execution_count": 25,
     "metadata": {},
     "output_type": "execute_result"
    }
   ],
   "source": [
    "# Total customers. we have to fetch this out from the tuple. we will do it later. first let's analyse some basic stuff.\n",
    "score.shape"
   ]
  },
  {
   "cell_type": "code",
   "execution_count": 26,
   "id": "71aa7306",
   "metadata": {},
   "outputs": [
    {
     "data": {
      "text/plain": [
       "1"
      ]
     },
     "execution_count": 26,
     "metadata": {},
     "output_type": "execute_result"
    }
   ],
   "source": [
    "# Minimum rating customers gave us. Thankfully It is not 0 LOl.\n",
    "score.min()"
   ]
  },
  {
   "cell_type": "code",
   "execution_count": 27,
   "id": "faabaf02",
   "metadata": {},
   "outputs": [
    {
     "data": {
      "text/plain": [
       "10"
      ]
     },
     "execution_count": 27,
     "metadata": {},
     "output_type": "execute_result"
    }
   ],
   "source": [
    "# Maximum rating I've got from customers. \n",
    "score.max()"
   ]
  },
  {
   "cell_type": "code",
   "execution_count": 28,
   "id": "cd56e2ff",
   "metadata": {},
   "outputs": [],
   "source": [
    "# NPS = %PROMOTERS - % DETRACTORS. Let's calculate both one by one.\n",
    "# Detractors - we are choosing those customers who gave us rating below and equal to 6 as our detractors."
   ]
  },
  {
   "cell_type": "code",
   "execution_count": 55,
   "id": "a2ec6c82",
   "metadata": {},
   "outputs": [],
   "source": [
    "Detractors = score[score<=6]"
   ]
  },
  {
   "cell_type": "code",
   "execution_count": 56,
   "id": "35abc2da",
   "metadata": {},
   "outputs": [
    {
     "name": "stdout",
     "output_type": "stream",
     "text": [
      "332\n"
     ]
    }
   ],
   "source": [
    "Detractors_numbers = Detractors.shape[0]\n",
    "print(Detractors_numbers)"
   ]
  },
  {
   "cell_type": "code",
   "execution_count": 46,
   "id": "f96a1537",
   "metadata": {},
   "outputs": [
    {
     "name": "stdout",
     "output_type": "stream",
     "text": [
      "28.449014567266495\n"
     ]
    }
   ],
   "source": [
    "# Calculating Detractors Percentage Here.\n",
    "\n",
    "Total_customers = score.shape[0]\n",
    "\n",
    "Percentage_Detractors = (Detractors_numbers/Total_customers)*100\n",
    "\n",
    "print(Percentage_Detractors)"
   ]
  },
  {
   "cell_type": "code",
   "execution_count": 47,
   "id": "ec771937",
   "metadata": {},
   "outputs": [],
   "source": [
    "# Now We Will Calculate Promoters Percentage.\n",
    "# AS a Data Scientist be more responsible and make the code shorter."
   ]
  },
  {
   "cell_type": "code",
   "execution_count": 50,
   "id": "3e0c65de",
   "metadata": {},
   "outputs": [
    {
     "name": "stdout",
     "output_type": "stream",
     "text": [
      "609\n"
     ]
    }
   ],
   "source": [
    "Promoters = score[score>=9].shape[0]\n",
    "print(Promoters)"
   ]
  },
  {
   "cell_type": "code",
   "execution_count": 51,
   "id": "4c1abf2b",
   "metadata": {},
   "outputs": [
    {
     "name": "stdout",
     "output_type": "stream",
     "text": [
      "52.185089974293064\n"
     ]
    }
   ],
   "source": [
    "# Now calculating Promoters percentage here\n",
    "Percentage_Promoters = (Promoters/Total_customers)*100\n",
    "print(Percentage_Promoters)"
   ]
  },
  {
   "cell_type": "code",
   "execution_count": 54,
   "id": "d5bff357",
   "metadata": {},
   "outputs": [
    {
     "name": "stdout",
     "output_type": "stream",
     "text": [
      "23.73607540702657\n"
     ]
    }
   ],
   "source": [
    "# Finally Let's Calculate Net Promoter Score.\n",
    "\n",
    "NPS = Percentage_Promoters - Percentage_Detractors\n",
    "print(NPS)\n",
    "\n",
    "# Just Like this If we Calculate the NPS every month/quarter/year. We can Analyse our customers sentiments.\n",
    "# If our customer sentments are changing in positive direction or not."
   ]
  },
  {
   "cell_type": "markdown",
   "id": "0276c7b1",
   "metadata": {},
   "source": [
    "# Practice"
   ]
  },
  {
   "cell_type": "code",
   "execution_count": 58,
   "id": "e85e907a",
   "metadata": {},
   "outputs": [
    {
     "data": {
      "text/plain": [
       "array([ 0,  1,  2,  3, 10, 10])"
      ]
     },
     "execution_count": 58,
     "metadata": {},
     "output_type": "execute_result"
    }
   ],
   "source": [
    "# Numpy allows us to assign value like this . Broadcasting we call it.\n",
    "a = np.array([0,1,2,3,4,5])\n",
    "a[4:]=10\n",
    "a"
   ]
  },
  {
   "cell_type": "code",
   "execution_count": 62,
   "id": "73981c65",
   "metadata": {},
   "outputs": [
    {
     "data": {
      "text/plain": [
       "(1, (9,))"
      ]
     },
     "execution_count": 62,
     "metadata": {},
     "output_type": "execute_result"
    }
   ],
   "source": [
    "a = np.array([1,2,3,4,5,6,7,8,9])\n",
    "a.ndim,a.shape"
   ]
  },
  {
   "cell_type": "code",
   "execution_count": 65,
   "id": "06060bde",
   "metadata": {},
   "outputs": [
    {
     "data": {
      "text/plain": [
       "array([23, 23, 23, 23, 23,  5,  6,  7,  8,  9, 10, 11])"
      ]
     },
     "execution_count": 65,
     "metadata": {},
     "output_type": "execute_result"
    }
   ],
   "source": [
    "a = np.arange(12)\n",
    "a[:5] = 23\n",
    "a"
   ]
  },
  {
   "cell_type": "code",
   "execution_count": 66,
   "id": "faf89f77",
   "metadata": {},
   "outputs": [
    {
     "data": {
      "text/plain": [
       "array([1, 2, 8, 7, 6])"
      ]
     },
     "execution_count": 66,
     "metadata": {},
     "output_type": "execute_result"
    }
   ],
   "source": [
    "a = np.array([1,2,3,4,5])\n",
    "b = np.array([6,7,8])\n",
    "a[2:] = b[::-1]\n",
    "a"
   ]
  },
  {
   "cell_type": "code",
   "execution_count": 68,
   "id": "dd0e5223",
   "metadata": {},
   "outputs": [
    {
     "data": {
      "text/plain": [
       "array([ 0,  1,  2,  3,  4,  5,  6,  7,  8,  9, 10, 11])"
      ]
     },
     "execution_count": 68,
     "metadata": {},
     "output_type": "execute_result"
    }
   ],
   "source": [
    "# Masking Indexing/Fancy Indexing\n",
    "# It is so fast and we don't need to use any for loop or anything.\n",
    "\n",
    "a = np.arange(12)\n",
    "a"
   ]
  },
  {
   "cell_type": "code",
   "execution_count": 70,
   "id": "2859065b",
   "metadata": {},
   "outputs": [
    {
     "name": "stdout",
     "output_type": "stream",
     "text": [
      "[ True  True  True  True  True  True False False False False False False]\n"
     ]
    }
   ],
   "source": [
    "mask = a<6\n",
    "print(mask)"
   ]
  },
  {
   "cell_type": "code",
   "execution_count": 71,
   "id": "6966b014",
   "metadata": {},
   "outputs": [
    {
     "data": {
      "text/plain": [
       "array([0, 1, 2, 3, 4, 5])"
      ]
     },
     "execution_count": 71,
     "metadata": {},
     "output_type": "execute_result"
    }
   ],
   "source": [
    "a[mask]"
   ]
  },
  {
   "cell_type": "code",
   "execution_count": 72,
   "id": "97314ddf",
   "metadata": {},
   "outputs": [
    {
     "data": {
      "text/plain": [
       "array([0, 1, 2, 3, 4, 5])"
      ]
     },
     "execution_count": 72,
     "metadata": {},
     "output_type": "execute_result"
    }
   ],
   "source": [
    "# Or do it easy way\n",
    "a[a<6]"
   ]
  },
  {
   "cell_type": "code",
   "execution_count": 75,
   "id": "f52a8e5c",
   "metadata": {},
   "outputs": [
    {
     "data": {
      "text/plain": [
       "array([ 0,  2,  4,  5,  6,  8, 10, 12, 14, 15, 16, 18])"
      ]
     },
     "execution_count": 75,
     "metadata": {},
     "output_type": "execute_result"
    }
   ],
   "source": [
    "# Now let's work with two conditions\n",
    "# First we will make it lengthy. Just to elaborate it better.\n",
    "# Then we will just write it in a way data scientists write.\n",
    "\n",
    "a = np.arange(20)\n",
    "\n",
    "# we need to fetch the elements that is either divisible by 2 or divisible by 5.\n",
    "\n",
    "mask1 = a%2==0\n",
    "mask2 = a%5==0\n",
    "\n",
    "a[mask1 | mask2]"
   ]
  },
  {
   "cell_type": "code",
   "execution_count": 76,
   "id": "4a6cb674",
   "metadata": {},
   "outputs": [
    {
     "data": {
      "text/plain": [
       "array([ 0,  2,  4,  5,  6,  8, 10, 12, 14, 15, 16, 18])"
      ]
     },
     "execution_count": 76,
     "metadata": {},
     "output_type": "execute_result"
    }
   ],
   "source": [
    "# Let's do it in one line only\n",
    "\n",
    "a[(a%2==0) | (a%5==0)]"
   ]
  },
  {
   "cell_type": "code",
   "execution_count": 77,
   "id": "a371b1fb",
   "metadata": {},
   "outputs": [
    {
     "data": {
      "text/plain": [
       "array([-1,  1, -1,  3, -1,  5])"
      ]
     },
     "execution_count": 77,
     "metadata": {},
     "output_type": "execute_result"
    }
   ],
   "source": [
    "# Quiz\n",
    "a = np.array([0,1,2,3,4,5])\n",
    "mask = (a%2==0)\n",
    "a[mask] = -1\n",
    "\n",
    "a"
   ]
  },
  {
   "cell_type": "code",
   "execution_count": 78,
   "id": "0155a709",
   "metadata": {},
   "outputs": [
    {
     "data": {
      "text/plain": [
       "array([0, 1, 2, 3])"
      ]
     },
     "execution_count": 78,
     "metadata": {},
     "output_type": "execute_result"
    }
   ],
   "source": [
    "a = np.arange(4)\n",
    "a+3\n",
    "a"
   ]
  },
  {
   "cell_type": "code",
   "execution_count": 79,
   "id": "b1c3fb9f",
   "metadata": {},
   "outputs": [
    {
     "data": {
      "text/plain": [
       "array([5, 7, 9])"
      ]
     },
     "execution_count": 79,
     "metadata": {},
     "output_type": "execute_result"
    }
   ],
   "source": [
    "a = np.array([1,2,3])\n",
    "b = np.array([4,5,6])\n",
    "a+b"
   ]
  },
  {
   "cell_type": "code",
   "execution_count": 80,
   "id": "faf49cd2",
   "metadata": {},
   "outputs": [
    {
     "data": {
      "text/plain": [
       "array([ 4, 10, 18])"
      ]
     },
     "execution_count": 80,
     "metadata": {},
     "output_type": "execute_result"
    }
   ],
   "source": [
    "a = np.array([1,2,3])\n",
    "b = np.array([4,5,6])\n",
    "a*b"
   ]
  },
  {
   "cell_type": "code",
   "execution_count": 81,
   "id": "beb8cdbf",
   "metadata": {},
   "outputs": [
    {
     "data": {
      "text/plain": [
       "array([0.25, 0.4 , 0.5 ])"
      ]
     },
     "execution_count": 81,
     "metadata": {},
     "output_type": "execute_result"
    }
   ],
   "source": [
    "a = np.array([1,2,3])\n",
    "b = np.array([4,5,6])\n",
    "a/b"
   ]
  },
  {
   "cell_type": "code",
   "execution_count": 82,
   "id": "7cd16dcc",
   "metadata": {},
   "outputs": [
    {
     "data": {
      "text/plain": [
       "array([-3, -3, -3])"
      ]
     },
     "execution_count": 82,
     "metadata": {},
     "output_type": "execute_result"
    }
   ],
   "source": [
    "a = np.array([1,2,3])\n",
    "b = np.array([4,5,6])\n",
    "a-b"
   ]
  },
  {
   "cell_type": "code",
   "execution_count": 83,
   "id": "ad9590ca",
   "metadata": {},
   "outputs": [
    {
     "data": {
      "text/plain": [
       "array([False, False, False])"
      ]
     },
     "execution_count": 83,
     "metadata": {},
     "output_type": "execute_result"
    }
   ],
   "source": [
    "a = np.array([1,2,3])\n",
    "b = np.array([4,5,6])\n",
    "a>b"
   ]
  },
  {
   "cell_type": "code",
   "execution_count": 84,
   "id": "9d52b8dc",
   "metadata": {},
   "outputs": [
    {
     "data": {
      "text/plain": [
       "6"
      ]
     },
     "execution_count": 84,
     "metadata": {},
     "output_type": "execute_result"
    }
   ],
   "source": [
    "a = np.array([0,1,2,3])\n",
    "np.sum(a)\n",
    "\n",
    "# This implementation is done inside numpy library"
   ]
  },
  {
   "cell_type": "code",
   "execution_count": 85,
   "id": "05c6a029",
   "metadata": {},
   "outputs": [
    {
     "data": {
      "text/plain": [
       "6"
      ]
     },
     "execution_count": 85,
     "metadata": {},
     "output_type": "execute_result"
    }
   ],
   "source": [
    "a.sum()\n",
    "\n",
    "# This implementation is done in numpy.ndarray"
   ]
  },
  {
   "cell_type": "code",
   "execution_count": 86,
   "id": "d65aded1",
   "metadata": {},
   "outputs": [
    {
     "data": {
      "text/plain": [
       "1.5"
      ]
     },
     "execution_count": 86,
     "metadata": {},
     "output_type": "execute_result"
    }
   ],
   "source": [
    "np.mean(a)"
   ]
  },
  {
   "cell_type": "code",
   "execution_count": 87,
   "id": "54d7575f",
   "metadata": {},
   "outputs": [
    {
     "data": {
      "text/plain": [
       "1.5"
      ]
     },
     "execution_count": 87,
     "metadata": {},
     "output_type": "execute_result"
    }
   ],
   "source": [
    "a.mean()"
   ]
  },
  {
   "cell_type": "code",
   "execution_count": 88,
   "id": "f7cefc40",
   "metadata": {},
   "outputs": [
    {
     "data": {
      "text/plain": [
       "0"
      ]
     },
     "execution_count": 88,
     "metadata": {},
     "output_type": "execute_result"
    }
   ],
   "source": [
    "np.min(a)"
   ]
  },
  {
   "cell_type": "code",
   "execution_count": 89,
   "id": "0d47480d",
   "metadata": {},
   "outputs": [
    {
     "data": {
      "text/plain": [
       "0"
      ]
     },
     "execution_count": 89,
     "metadata": {},
     "output_type": "execute_result"
    }
   ],
   "source": [
    "a.min()"
   ]
  },
  {
   "cell_type": "code",
   "execution_count": 90,
   "id": "2df1d806",
   "metadata": {},
   "outputs": [
    {
     "data": {
      "text/plain": [
       "3"
      ]
     },
     "execution_count": 90,
     "metadata": {},
     "output_type": "execute_result"
    }
   ],
   "source": [
    "np.max(a)"
   ]
  },
  {
   "cell_type": "code",
   "execution_count": 91,
   "id": "8787310f",
   "metadata": {},
   "outputs": [
    {
     "data": {
      "text/plain": [
       "3"
      ]
     },
     "execution_count": 91,
     "metadata": {},
     "output_type": "execute_result"
    }
   ],
   "source": [
    "a.max()"
   ]
  },
  {
   "cell_type": "code",
   "execution_count": null,
   "id": "e565caab",
   "metadata": {},
   "outputs": [],
   "source": []
  },
  {
   "cell_type": "code",
   "execution_count": null,
   "id": "fd92316b",
   "metadata": {},
   "outputs": [],
   "source": []
  },
  {
   "cell_type": "code",
   "execution_count": null,
   "id": "55ef9e55",
   "metadata": {},
   "outputs": [],
   "source": []
  },
  {
   "cell_type": "code",
   "execution_count": null,
   "id": "1277a698",
   "metadata": {},
   "outputs": [],
   "source": []
  },
  {
   "cell_type": "code",
   "execution_count": null,
   "id": "ad2e7024",
   "metadata": {},
   "outputs": [],
   "source": []
  },
  {
   "cell_type": "code",
   "execution_count": null,
   "id": "7d1efcb4",
   "metadata": {},
   "outputs": [],
   "source": []
  },
  {
   "cell_type": "code",
   "execution_count": null,
   "id": "9b3ef688",
   "metadata": {},
   "outputs": [],
   "source": []
  },
  {
   "cell_type": "code",
   "execution_count": null,
   "id": "f18b8ed9",
   "metadata": {},
   "outputs": [],
   "source": []
  }
 ],
 "metadata": {
  "kernelspec": {
   "display_name": "Python 3 (ipykernel)",
   "language": "python",
   "name": "python3"
  },
  "language_info": {
   "codemirror_mode": {
    "name": "ipython",
    "version": 3
   },
   "file_extension": ".py",
   "mimetype": "text/x-python",
   "name": "python",
   "nbconvert_exporter": "python",
   "pygments_lexer": "ipython3",
   "version": "3.11.2"
  }
 },
 "nbformat": 4,
 "nbformat_minor": 5
}
